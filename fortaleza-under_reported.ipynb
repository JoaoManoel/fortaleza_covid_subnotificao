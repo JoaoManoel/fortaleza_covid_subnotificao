{
 "cells": [
  {
   "cell_type": "markdown",
   "metadata": {},
   "source": [
    "<p style='margin-top: 15px; text-align: center; font-size: 22px;'><b>Corrigindo Casos de Subnotificação da COVID-19 em Fortaleza/CE</b></p>\n",
    "\n",
    "\n",
    "<div style=\"margin-top: 30px;\">\n",
    "    <p style=\"font-size: 20px; text-align: center;\"><b>João Manoel Lins</b></p>\n",
    "</div>"
   ]
  },
  {
   "cell_type": "code",
   "execution_count": 1,
   "metadata": {},
   "outputs": [],
   "source": [
    "import os\n",
    "import glob\n",
    "import zipfile, requests, io\n",
    "\n",
    "import pandas as pd\n",
    "import numpy as np\n",
    "\n",
    "import matplotlib.pyplot as plt\n",
    "\n",
    "import plotly.offline as py\n",
    "import plotly.graph_objs as go\n",
    "import plotly.figure_factory as ff\n",
    "\n",
    "import warnings\n",
    "\n",
    "%matplotlib inline\n",
    "warnings.filterwarnings('ignore')"
   ]
  },
  {
   "cell_type": "code",
   "execution_count": 2,
   "metadata": {},
   "outputs": [],
   "source": [
    "# Apagando os dados do coronavirus antigos.\n",
    "for f in glob.glob('casos_coronavirus*.csv'):\n",
    "    os.remove(f)\n",
    "\n",
    "# Url download do IntegraSUS\n",
    "FILE_URL = 'http://download-integrasus.saude.ce.gov.br/download'\n",
    "\n",
    "# Baixando os dados atualizados\n",
    "r = requests.get(FILE_URL)\n",
    "z = zipfile.ZipFile(io.BytesIO(r.content))\n",
    "z.extractall(os.getcwd())"
   ]
  },
  {
   "cell_type": "code",
   "execution_count": null,
   "metadata": {},
   "outputs": [],
   "source": [
    "CASOS_NAME = 'casos_coronavirus*.csv'\n",
    "CASOS_PATH = os.path.join(os.getcwd(), CASOS_NAME)\n",
    "\n",
    "FAIXA_ETARIA_NAME = 'FAIXA_ETARIA_FORTALEZA_2019.csv'\n",
    "FAIXA_ETARIA_PATH = os.path.join(os.getcwd(), FAIXA_ETARIA_NAME)\n",
    "\n",
    "FAIXA_ETARIA_COREIA_NAME = 'FAIXA_ETARIA_COREIA_SUL_2020.csv'\n",
    "FAIXA_ETARIA_COREIA_PATH = os.path.join(os.getcwd(), FAIXA_ETARIA_COREIA_NAME)\n",
    "\n",
    "# Importando os arquivos\n",
    "csvs = (pd.read_csv(f, sep=',', low_memory=False) for f in glob.glob(CASOS_PATH))\n",
    "\n",
    "# concatenando todos os arquivos em um único dataframe\n",
    "casos = pd.concat(csvs, ignore_index=True)\n",
    "\n",
    "faixa_etaria = pd.read_csv(FAIXA_ETARIA_PATH, sep=',')\n",
    "faixa_etaria_coreia = pd.read_csv(FAIXA_ETARIA_COREIA_PATH, sep=',')"
   ]
  },
  {
   "cell_type": "markdown",
   "metadata": {},
   "source": [
    "### Limpeza no DataFrame de Casos/Óbitos"
   ]
  },
  {
   "cell_type": "code",
   "execution_count": null,
   "metadata": {},
   "outputs": [],
   "source": [
    "# Removendo coluna\n",
    "casos.drop(['Unnamed: 0'], axis=1, inplace=True)\n",
    "\n",
    "# Transformando as colunas em maiúscula\n",
    "casos.columns = list(map(lambda x: x.upper(), casos.columns))"
   ]
  },
  {
   "cell_type": "code",
   "execution_count": null,
   "metadata": {},
   "outputs": [],
   "source": [
    "# Casos de Fortaleza\n",
    "casos = casos[casos['MUNICIPIOPACIENTE'] == 'FORTALEZA']\n",
    "\n",
    "# Somente casos positivos\n",
    "casos_confirmados = casos[casos['RESULTADOFINALEXAME'] == 'Positivo']\n",
    "\n",
    "# Removendo casos sem data de notificacao\n",
    "casos_confirmados = casos_confirmados[~casos_confirmados['DATANOTIFICACAO'].isna()]\n",
    "\n",
    "# Todos obitos confirmados possuem data\n",
    "obitos = casos[casos['OBITOCONFIRMADO'] == True]"
   ]
  },
  {
   "cell_type": "markdown",
   "metadata": {},
   "source": [
    "### Agrupando por semana"
   ]
  },
  {
   "cell_type": "markdown",
   "metadata": {},
   "source": [
    "#### Agrupando por Semanas"
   ]
  },
  {
   "cell_type": "code",
   "execution_count": null,
   "metadata": {},
   "outputs": [],
   "source": [
    "# Convertendo a coluna para datetime\n",
    "casos_confirmados['DATANOTIFICACAO'] = pd.to_datetime(casos_confirmados['DATANOTIFICACAO'])\n",
    "obitos['DATAOBITO'] = pd.to_datetime(obitos['DATAOBITO'])"
   ]
  },
  {
   "cell_type": "code",
   "execution_count": null,
   "metadata": {},
   "outputs": [],
   "source": [
    "# Criando a coluna com a semana do ano\n",
    "casos_confirmados['SEMANA'] = casos_confirmados['DATANOTIFICACAO'].dt.strftime('%W')\n",
    "obitos['SEMANA'] = obitos['DATAOBITO'].dt.strftime('%W')"
   ]
  },
  {
   "cell_type": "code",
   "execution_count": null,
   "metadata": {},
   "outputs": [],
   "source": [
    "# Quantidade de casos/óbitos por semana do ano\n",
    "casos_semana_index = {week: index[0] for week, index in sorted(casos_confirmados.groupby('SEMANA').groups.items(), reverse=False)}\n",
    "casos_confirmados_semana = casos_confirmados.groupby(casos_confirmados['DATANOTIFICACAO'].dt.strftime('%W'))['CODIGOPACIENTE'].count()\n",
    "\n",
    "obitos_semana_index = {week: index[0] for week, index in sorted(obitos.groupby('SEMANA').groups.items(), reverse=False)}\n",
    "obitos_semana = casos_confirmados.groupby(obitos['DATAOBITO'].dt.strftime('%W'))['DATAOBITO'].count()"
   ]
  },
  {
   "cell_type": "markdown",
   "metadata": {},
   "source": [
    "---"
   ]
  },
  {
   "cell_type": "markdown",
   "metadata": {},
   "source": [
    "## Gráficos"
   ]
  },
  {
   "cell_type": "markdown",
   "metadata": {},
   "source": [
    "### Casos/Óbitos"
   ]
  },
  {
   "cell_type": "code",
   "execution_count": null,
   "metadata": {},
   "outputs": [],
   "source": [
    "values = casos_confirmados_semana.keys() if len(casos_confirmados_semana.keys()) > len(obitos_semana.keys()) else obitos_semana.keys()\n",
    "for v in values:\n",
    "    if v not in casos_confirmados_semana.keys():\n",
    "        casos_confirmados_semana = casos_confirmados_semana.append(pd.Series({v: 0}))\n",
    "    if v not in obitos_semana.keys():\n",
    "        obitos_semana = obitos_semana.append(pd.Series({v: 0}))\n",
    "casos_confirmados_semana = pd.Series({k: v for k, v in sorted(casos_confirmados_semana.items(), key=lambda item: item[0])})\n",
    "obitos_semana = pd.Series({k: v for k, v in sorted(obitos_semana.items(), key=lambda item: item[0])})"
   ]
  },
  {
   "cell_type": "code",
   "execution_count": null,
   "metadata": {},
   "outputs": [],
   "source": [
    "plt.rcParams.update({'font.size': 26})\n",
    "plt.rc('text', usetex=True)\n",
    "\n",
    "fig = plt.figure(figsize=(15, 7))\n",
    "fig.tight_layout(pad=3.0)\n",
    "\n",
    "plt.title('Fortaleza')\n",
    "plt.xticks(rotation=45)\n",
    "\n",
    "ax = fig.add_subplot(1, 1, 1)\n",
    "res1, = ax.plot(casos_confirmados_semana, 'rs-', linewidth=3, label=\"Casos Confirmados\")\n",
    "ax.set_ylabel('Casos Confirmados', color='black')\n",
    "ax.set_xlabel('Semana')\n",
    "\n",
    "ax2 = ax.twinx()\n",
    "res2, = ax2.plot(obitos_semana,'go-', linewidth=3, label='Óbitos')\n",
    "ax2.set_ylabel('Óbitos', color='green')\n",
    "ax2.tick_params(axis='y', labelcolor='green')\n",
    "\n",
    "plt.legend(handles=[res1, res2])\n",
    "plt.show()"
   ]
  },
  {
   "cell_type": "code",
   "execution_count": null,
   "metadata": {},
   "outputs": [],
   "source": [
    "# Calculando mortes acumuladas por semana\n",
    "obitos_acumulado_semana = obitos.groupby('SEMANA').size().cumsum()\n",
    "\n",
    "# Calculando casos acumulados por semana\n",
    "casos_confirmados_semana = casos_confirmados.groupby('SEMANA').size().cumsum()\n",
    "\n",
    "# Eliminando as semanas que não tiveram mais que 50 óbitos\n",
    "obitos_acumulado_semana = obitos_acumulado_semana[obitos_acumulado_semana > 50]\n",
    "\n",
    "# Eliminando as semanas que não tiveram mais que 50 óbitos\n",
    "## Obitos e Casos vao ter as mesmas semanas\n",
    "casos_confirmados_semana = casos_confirmados_semana[casos_confirmados_semana.index.isin(obitos_acumulado_semana.index)]"
   ]
  },
  {
   "cell_type": "markdown",
   "metadata": {},
   "source": [
    "### Gráfico Óbitos/Casos Acumulados por Semana (Fortaleza)"
   ]
  },
  {
   "cell_type": "code",
   "execution_count": null,
   "metadata": {},
   "outputs": [],
   "source": [
    "plt.rcParams.update({'font.size': 26})\n",
    "\n",
    "fig = plt.figure(figsize=(15, 7))\n",
    "fig.tight_layout(pad=3.0)\n",
    "\n",
    "plt.title('Fortaleza por Semana (Acumulado)')\n",
    "plt.xticks(rotation=45)\n",
    "\n",
    "ax = fig.add_subplot(1, 1, 1)\n",
    "res1, = ax.plot(casos_confirmados_semana, 'rs-', linewidth=3, label=\"Casos Confirmados\")\n",
    "ax.set_ylabel('Casos Confirmados', color='black')\n",
    "ax.set_xlabel('Semana')\n",
    "\n",
    "ax2 = ax.twinx()\n",
    "res2, = ax2.plot(obitos_acumulado_semana,'go-', linewidth=3, label='Óbitos')\n",
    "ax2.set_ylabel('Óbitos', color='green')\n",
    "ax2.tick_params(axis='y', labelcolor='green')\n",
    "\n",
    "plt.legend(handles=[res1, res2])\n",
    "plt.show()"
   ]
  },
  {
   "cell_type": "markdown",
   "metadata": {},
   "source": [
    "---"
   ]
  },
  {
   "cell_type": "markdown",
   "metadata": {},
   "source": [
    "## Encontrando Casos de Subnotificação"
   ]
  },
  {
   "cell_type": "markdown",
   "metadata": {},
   "source": [
    "### Fórmulas do Cálculo dos Casos Ajustados\n",
    "[Paper Referência](https://www.medrxiv.org/content/10.1101/2020.03.14.20036178v2.article-metrics)"
   ]
  },
  {
   "cell_type": "markdown",
   "metadata": {},
   "source": [
    "#### Fator de Variabilidade\n",
    "<br>\n",
    "$\\LARGE V_{FC} = \\frac{\\sum_{i=0}^{N} f_{F}r_i}{\\sum_{i=0}^{n} f_{C}  r_i}$\n",
    "\n",
    "$f_{F}$ é a fração da população com idade ${i}$ em Fortaleza.\n",
    "\n",
    "$f_{C}$ é a fração da população com idade ${i}$ na Coréia do Sul.\n",
    "\n",
    "${r_i}$ é taxa de mortalidade da idade ${i}$ na Coréia do Sul."
   ]
  },
  {
   "cell_type": "markdown",
   "metadata": {},
   "source": [
    "#### Casos Estimados\n",
    "<br>\n",
    "$\\LARGE EC(T,t) = \\frac{PD(t+d)}{V_{FC} x CFR_C}$\n",
    "\n",
    "$PD(t+d)$ é o número de óbitos acumulados estimados no dia $t$ com um atraso de $d$ dias.\n",
    "\n",
    "$d$ utilizado será <b>10</b>.\n",
    "\n",
    "$V_{FC}$ é a taxa de variabilidade.\n",
    "\n",
    "$CFR_C$ é a taxa de casos fatais na Coréia do Sul, que será <b>0.0213</b>."
   ]
  },
  {
   "cell_type": "markdown",
   "metadata": {},
   "source": [
    "---"
   ]
  },
  {
   "cell_type": "markdown",
   "metadata": {},
   "source": [
    "### Faixa Etária de Fortaleza (2019)\n",
    "\n",
    "| 0-9 | 10-19 | 20-39 | 40-59 | 60-69 | 70-79 | 80+ |\n",
    "| --- | --- | --- | --- | --- | --- | --- |\n",
    "| 377080 | 470620 | 965756 | 597194 | 141690 | 76771 | 40231 |\n",
    "\n",
    "[Fonte](https://simda.sms.fortaleza.ce.gov.br/simda/populacao/faixa?faixaEtaria=2&modo=regional&ano_pop=2019)"
   ]
  },
  {
   "cell_type": "markdown",
   "metadata": {},
   "source": [
    "### Faixa Etária da Coréia do Sul (2020)\n",
    "\n",
    "| 0-9 | 10-19 | 20-39 | 40-59 | 60-69 | 70-79 | 80+ |\n",
    "| --- | --- | --- | --- | --- | --- | --- |\n",
    "| 4153813 | 4753258 | 13796133 | 16695543 | 6453706 | 3560646 | 1856084 |\n",
    "\n",
    "[Fonte](https://www.populationpyramid.net/republic-of-korea/2020/)"
   ]
  },
  {
   "cell_type": "markdown",
   "metadata": {},
   "source": [
    "### Taxa de Mortalidade (CFR) por Faixa Etária (Coréia do Sul) \n",
    "[Fonte](https://en.wikipedia.org/wiki/COVID-19_pandemic_in_South_Korea)"
   ]
  },
  {
   "cell_type": "code",
   "execution_count": null,
   "metadata": {},
   "outputs": [],
   "source": [
    "taxa_mortalidade = np.array([0, 0, .12, .79, 2.31, 9.50, 24.91])"
   ]
  },
  {
   "cell_type": "code",
   "execution_count": null,
   "metadata": {},
   "outputs": [],
   "source": [
    "fortaleza_faixa_etaria = np.array([377080, 470620, 965756, 597194, 141690, 76771, 40231])\n",
    "coreia_sul_faixa_etaria = np.array([4153813, 4753258, 13796133, 16695543, 6453706, 3560646, 1856084])"
   ]
  },
  {
   "cell_type": "code",
   "execution_count": null,
   "metadata": {},
   "outputs": [],
   "source": [
    "Vfc =  ((fortaleza_faixa_etaria / fortaleza_faixa_etaria.sum()) * taxa_mortalidade).sum() / ((coreia_sul_faixa_etaria / coreia_sul_faixa_etaria.sum()) * taxa_mortalidade).sum() \n",
    "Vfc"
   ]
  },
  {
   "cell_type": "markdown",
   "metadata": {},
   "source": [
    "Com o Vfc < 1, então a população de Fortaleza é muito mais nova em comparação à Coréia do Sul. Vfc < 1 deve levar o CFR de Fortaleza a um número menor."
   ]
  },
  {
   "cell_type": "code",
   "execution_count": null,
   "metadata": {},
   "outputs": [],
   "source": [
    "DELAY = 10\n",
    "CFR_COREIA = 0.0213"
   ]
  },
  {
   "cell_type": "code",
   "execution_count": null,
   "metadata": {},
   "outputs": [],
   "source": [
    "# Última data que será utilizada para estimar os casos \"reais\". \n",
    "# Será 10 dias antes do último óbito\n",
    "ultima_data = obitos['DATAOBITO'].sort_values(ascending=False).iloc[0] - pd.to_timedelta(DELAY, unit='d')"
   ]
  },
  {
   "cell_type": "code",
   "execution_count": null,
   "metadata": {},
   "outputs": [],
   "source": [
    "# Casos tirando as semanas que não completeram os 50 óbitos iniciais\n",
    "casos = casos_confirmados[casos_confirmados['SEMANA'].isin(obitos_acumulado_semana.index)]\n",
    "\n",
    "# Casos até 10 dias antes do último óbito\n",
    "casos = casos[(casos['DATANOTIFICACAO']) < ultima_data - pd.to_timedelta(DELAY, unit='d')]"
   ]
  },
  {
   "cell_type": "code",
   "execution_count": null,
   "metadata": {},
   "outputs": [],
   "source": [
    "EC_dict = dict()\n",
    "for day in casos['DATANOTIFICACAO'].sort_values(ascending=True).unique():\n",
    "    dd = day + pd.to_timedelta(DELAY, unit='d')\n",
    "    EC = obitos[obitos['DATAOBITO'] == dd]['DATAOBITO'].count() / (Vfc * CFR_COREIA)\n",
    "    EC_dict[str(dd.strftime('%Y-%m-%d'))] = int(EC)"
   ]
  },
  {
   "cell_type": "code",
   "execution_count": null,
   "metadata": {},
   "outputs": [],
   "source": [
    "# Novo DataFrame com os casos estimados\n",
    "EC_df = pd.DataFrame.from_dict(EC_dict.items())\n",
    "EC_df.columns = ['DATA', 'TOTAL']\n",
    "\n",
    "EC_df['DATA'] = pd.to_datetime(EC_df['DATA'])\n",
    "EC_df['SEMANA'] = EC_df['DATA'].dt.strftime('%W')"
   ]
  },
  {
   "cell_type": "code",
   "execution_count": null,
   "metadata": {},
   "outputs": [],
   "source": [
    "# Acumulativo por Semana\n",
    "EC_semana = EC_df.groupby('SEMANA')[['SEMANA', 'TOTAL']].sum().cumsum()\n",
    "\n",
    "# Acumulativo por dia\n",
    "EC_dia = EC_df.groupby('DATA')[['DATA', 'TOTAL']].sum().cumsum()\n",
    "\n",
    "# Casos confirmados semana\n",
    "casos_confirmados_semana = casos_confirmados.groupby('SEMANA').size().cumsum()\n",
    "\n",
    "# Somente com as mesmas semanas\n",
    "casos_confirmados_semana = casos_confirmados_semana[casos_confirmados_semana.index.isin(EC_df['SEMANA'].unique())]\n",
    "\n",
    "# Casos confirmados por dia\n",
    "casos_confirmados_dia = casos_confirmados.groupby('DATANOTIFICACAO').size().cumsum()\n",
    "# Somente com os mesmos dias\n",
    "casos_confirmados_dia = casos_confirmados_dia[casos_confirmados_dia.index.isin(EC_df['DATA'].unique())]"
   ]
  },
  {
   "cell_type": "markdown",
   "metadata": {},
   "source": [
    "### Novo Gráfico dos Casos Corrigidos"
   ]
  },
  {
   "cell_type": "markdown",
   "metadata": {},
   "source": [
    "#### Por Semana"
   ]
  },
  {
   "cell_type": "code",
   "execution_count": null,
   "metadata": {},
   "outputs": [],
   "source": [
    "plt.rcParams.update({'font.size': 26})\n",
    "\n",
    "fig = plt.figure(figsize=(15, 7))\n",
    "fig.tight_layout(pad=3.0)\n",
    "\n",
    "plt.title('Casos em Fortaleza por Semana (Acumulado)')\n",
    "plt.xticks(rotation=45)\n",
    "\n",
    "ax = fig.add_subplot(1, 1, 1)\n",
    "res1, = ax.plot(casos_confirmados_semana, 'rs-', linewidth=3, label=\"Casos Confirmados\")\n",
    "res2, = ax.plot(EC_semana,'go-', linewidth=3, label='Casos Corrigidos')\n",
    "\n",
    "ax.set_xlabel('Semana', color='black')\n",
    "ax.set_ylabel('Casos', color='black')\n",
    "\n",
    "plt.legend(handles=[res1, res2])\n",
    "plt.show()"
   ]
  },
  {
   "cell_type": "code",
   "execution_count": null,
   "metadata": {
    "scrolled": true
   },
   "outputs": [],
   "source": [
    "fig = go.Figure()\n",
    "\n",
    "fig.add_trace(go.Scatter(x=EC_semana.index, y=EC_semana['TOTAL'], name='Casos Corrigidos',\n",
    "                         hoverinfo='y',\n",
    "                         line=dict(color='green', width=3)))\n",
    "\n",
    "fig.add_trace(go.Scatter(x=casos_confirmados_semana.index, y=casos_confirmados_semana, name='Casos Confirmados',\n",
    "                         hoverinfo='y',\n",
    "                         line=dict(color='red', width=3)))\n",
    "\n",
    "fig.update_yaxes(tickvals=list(range(0, int(max(EC_semana['TOTAL']) * 1.2), 30000)))\n",
    "fig.update_xaxes(tickvals=casos_confirmados_semana.index)\n",
    "fig.update_layout(hovermode=\"x unified\")\n",
    "\n",
    "fig.update_layout(title='Casos em Fortaleza por Semana (Acumulado)',\n",
    "                   xaxis_title='Semana',\n",
    "                   yaxis_title='Casos (Milhares)',\n",
    "                   width=600, height=500)"
   ]
  },
  {
   "cell_type": "markdown",
   "metadata": {},
   "source": [
    "#### Fator Mutiplicador Semana"
   ]
  },
  {
   "cell_type": "code",
   "execution_count": null,
   "metadata": {},
   "outputs": [],
   "source": [
    "for semana, valor in zip(EC_semana.index, EC_semana['TOTAL'].values / casos_confirmados_semana.values * 100):\n",
    "    print(f'Semana {semana} teve {round(round(valor, 2) - 100, 2)}% de casos não notificados.')"
   ]
  },
  {
   "cell_type": "markdown",
   "metadata": {},
   "source": [
    "#### Por Dia"
   ]
  },
  {
   "cell_type": "code",
   "execution_count": null,
   "metadata": {},
   "outputs": [],
   "source": [
    "plt.rcParams.update({'font.size': 26})\n",
    "\n",
    "fig = plt.figure(figsize=(21, 7))\n",
    "fig.tight_layout(pad=3.0)\n",
    "\n",
    "plt.title('Casos em Fortaleza por Dia (Acumulado)')\n",
    "plt.xticks(rotation=45)\n",
    "\n",
    "ax = fig.add_subplot(1, 1, 1)\n",
    "res1, = ax.plot(casos_confirmados_dia, 'rs-', linewidth=2, label=\"Casos Confirmados\")\n",
    "res2, = ax.plot(EC_dia,'go-', linewidth=2, label='Casos Corrigidos')\n",
    "\n",
    "ax.set_xlabel('Data', color='black')\n",
    "ax.set_ylabel('Casos', color='black')\n",
    "\n",
    "plt.legend(handles=[res1, res2])\n",
    "plt.show()"
   ]
  },
  {
   "cell_type": "code",
   "execution_count": null,
   "metadata": {},
   "outputs": [],
   "source": [
    "fig = go.Figure()\n",
    "\n",
    "fig.add_trace(go.Scatter(x=EC_dia.index, y=EC_dia['TOTAL'], name='Casos Corrigidos',\n",
    "                         hoverinfo='y',\n",
    "                         line=dict(color='green', width=3)))\n",
    "\n",
    "fig.add_trace(go.Scatter(x=casos_confirmados_dia.index, y=casos_confirmados_dia, name='Casos Confirmados',\n",
    "                         hoverinfo='y',\n",
    "                         line=dict(color='red', width=3)))\n",
    "\n",
    "fig.update_yaxes(tickvals=list(range(0, int(max(EC_dia['TOTAL']) * 1.2), 30000)))\n",
    "# fig.update_xaxes(tickvals=casos_confirmados_dia.index)\n",
    "fig.update_layout(hovermode=\"x unified\")\n",
    "\n",
    "\n",
    "fig.update_layout(title='Casos em Fortaleza por Dia (Acumulado)',\n",
    "                   xaxis_title='Dias',\n",
    "                   yaxis_title='Casos (Milhares)',\n",
    "                   width=600, height=500)"
   ]
  }
 ],
 "metadata": {
  "kernelspec": {
   "display_name": "Python 3",
   "language": "python",
   "name": "python3"
  },
  "language_info": {
   "codemirror_mode": {
    "name": "ipython",
    "version": 3
   },
   "file_extension": ".py",
   "mimetype": "text/x-python",
   "name": "python",
   "nbconvert_exporter": "python",
   "pygments_lexer": "ipython3",
   "version": "3.8.3"
  }
 },
 "nbformat": 4,
 "nbformat_minor": 4
}
